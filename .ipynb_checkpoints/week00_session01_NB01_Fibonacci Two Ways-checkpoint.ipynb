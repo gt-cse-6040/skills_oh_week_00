{
 "cells": [
  {
   "cell_type": "markdown",
   "id": "cc5df5e1",
   "metadata": {},
   "source": [
    "# Fibonacci Two Ways"
   ]
  },
  {
   "cell_type": "markdown",
   "id": "a19e85cd",
   "metadata": {},
   "source": [
    "## Fibonacci Using Recursion"
   ]
  },
  {
   "cell_type": "code",
   "execution_count": 5,
   "id": "ec34d35d",
   "metadata": {},
   "outputs": [
    {
     "data": {
      "text/plain": [
       "89"
      ]
     },
     "execution_count": 5,
     "metadata": {},
     "output_type": "execute_result"
    }
   ],
   "source": [
    "def fib_slow(n):\n",
    "#     computes the n-th Fibonacci number\n",
    "    assert isinstance(n, int)\n",
    "    assert n >= 0\n",
    "    if n in {0,1}:\n",
    "        return 1\n",
    "    return fib_slow(n-1) + fib_slow(n-2)\n",
    "\n",
    "fib_slow(10)"
   ]
  },
  {
   "cell_type": "markdown",
   "id": "be2ce9cf",
   "metadata": {},
   "source": [
    "## Fibonacci Without Recursion"
   ]
  },
  {
   "cell_type": "code",
   "execution_count": 9,
   "id": "afa87417",
   "metadata": {},
   "outputs": [
    {
     "data": {
      "text/plain": [
       "89"
      ]
     },
     "execution_count": 9,
     "metadata": {},
     "output_type": "execute_result"
    }
   ],
   "source": [
    "def fib_non_recursive(n):\n",
    "    \n",
    "    assert isinstance(n, int)\n",
    "    assert n >= 0\n",
    "#     computes the n-th Fibonacci number\n",
    "    if n in {0,1}:\n",
    "        return 1\n",
    "    else:\n",
    "        if n == 2:\n",
    "            return 2\n",
    "        else:\n",
    "            if n == 3:\n",
    "                return 3\n",
    "            else:\n",
    "                priorNum=2\n",
    "                currNum=3\n",
    "                fibNum=0\n",
    "                for A in range(3,n):\n",
    "                    fibNum = priorNum + currNum\n",
    "                    priorNum = currNum\n",
    "                    currNum = fibNum\n",
    "                return fibNum\n",
    "        \n",
    "fib_non_recursive(10)   "
   ]
  },
  {
   "cell_type": "code",
   "execution_count": null,
   "id": "5c2268c6",
   "metadata": {},
   "outputs": [],
   "source": []
  },
  {
   "cell_type": "code",
   "execution_count": null,
   "id": "12e4f875",
   "metadata": {},
   "outputs": [],
   "source": []
  }
 ],
 "metadata": {
  "kernelspec": {
   "display_name": "Python 3 (ipykernel)",
   "language": "python",
   "name": "python3"
  },
  "language_info": {
   "codemirror_mode": {
    "name": "ipython",
    "version": 3
   },
   "file_extension": ".py",
   "mimetype": "text/x-python",
   "name": "python",
   "nbconvert_exporter": "python",
   "pygments_lexer": "ipython3",
   "version": "3.9.13"
  }
 },
 "nbformat": 4,
 "nbformat_minor": 5
}
