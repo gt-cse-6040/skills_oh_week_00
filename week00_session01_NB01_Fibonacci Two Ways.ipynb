{
  "cells": [
    {
      "cell_type": "markdown",
      "metadata": {
        "id": "view-in-github",
        "colab_type": "text"
      },
      "source": [
        "<a href=\"https://colab.research.google.com/github/gt-cse-6040/skills_oh_week_00/blob/main/week00_session01_NB01_Fibonacci%20Two%20Ways.ipynb\" target=\"_parent\"><img src=\"https://colab.research.google.com/assets/colab-badge.svg\" alt=\"Open In Colab\"/></a>"
      ]
    },
    {
      "cell_type": "markdown",
      "id": "cc5df5e1",
      "metadata": {
        "id": "cc5df5e1"
      },
      "source": [
        "# Fibonacci Two Ways"
      ]
    },
    {
      "cell_type": "markdown",
      "id": "a19e85cd",
      "metadata": {
        "id": "a19e85cd"
      },
      "source": [
        "## Fibonacci Using Recursion"
      ]
    },
    {
      "cell_type": "code",
      "execution_count": null,
      "id": "ec34d35d",
      "metadata": {
        "id": "ec34d35d",
        "outputId": "cfcb5a29-4335-4191-9ca4-108c61237e75"
      },
      "outputs": [
        {
          "data": {
            "text/plain": [
              "89"
            ]
          },
          "execution_count": 5,
          "metadata": {},
          "output_type": "execute_result"
        }
      ],
      "source": [
        "def fib_slow(n):\n",
        "#     computes the n-th Fibonacci number\n",
        "    assert isinstance(n, int)\n",
        "    assert n >= 0\n",
        "    if n in {0,1}:\n",
        "        return 1\n",
        "    return fib_slow(n-1) + fib_slow(n-2)\n",
        "\n",
        "fib_slow(10)"
      ]
    },
    {
      "cell_type": "markdown",
      "id": "be2ce9cf",
      "metadata": {
        "id": "be2ce9cf"
      },
      "source": [
        "## Fibonacci Without Recursion"
      ]
    },
    {
      "cell_type": "code",
      "execution_count": null,
      "id": "afa87417",
      "metadata": {
        "id": "afa87417",
        "outputId": "d13ca243-11ae-48cc-bbab-1c611ee82d1d"
      },
      "outputs": [
        {
          "data": {
            "text/plain": [
              "89"
            ]
          },
          "execution_count": 9,
          "metadata": {},
          "output_type": "execute_result"
        }
      ],
      "source": [
        "def fib_non_recursive(n):\n",
        "    \n",
        "    assert isinstance(n, int)\n",
        "    assert n >= 0\n",
        "#     computes the n-th Fibonacci number\n",
        "    if n in {0,1}:\n",
        "        return 1\n",
        "    else:\n",
        "        if n == 2:\n",
        "            return 2\n",
        "        else:\n",
        "            if n == 3:\n",
        "                return 3\n",
        "            else:\n",
        "                priorNum=2\n",
        "                currNum=3\n",
        "                fibNum=0\n",
        "                for A in range(3,n):\n",
        "                    fibNum = priorNum + currNum\n",
        "                    priorNum = currNum\n",
        "                    currNum = fibNum\n",
        "                return fibNum\n",
        "        \n",
        "fib_non_recursive(10)   "
      ]
    },
    {
      "cell_type": "code",
      "execution_count": null,
      "id": "5c2268c6",
      "metadata": {
        "id": "5c2268c6"
      },
      "outputs": [],
      "source": []
    },
    {
      "cell_type": "code",
      "execution_count": null,
      "id": "12e4f875",
      "metadata": {
        "id": "12e4f875"
      },
      "outputs": [],
      "source": []
    }
  ],
  "metadata": {
    "kernelspec": {
      "display_name": "Python 3 (ipykernel)",
      "language": "python",
      "name": "python3"
    },
    "language_info": {
      "codemirror_mode": {
        "name": "ipython",
        "version": 3
      },
      "file_extension": ".py",
      "mimetype": "text/x-python",
      "name": "python",
      "nbconvert_exporter": "python",
      "pygments_lexer": "ipython3",
      "version": "3.9.13"
    },
    "colab": {
      "provenance": [],
      "include_colab_link": true
    }
  },
  "nbformat": 4,
  "nbformat_minor": 5
}