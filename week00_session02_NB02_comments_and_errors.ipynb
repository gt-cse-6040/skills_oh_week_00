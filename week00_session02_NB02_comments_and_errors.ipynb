{
  "cells": [
    {
      "cell_type": "markdown",
      "metadata": {
        "id": "view-in-github",
        "colab_type": "text"
      },
      "source": [
        "<a href=\"https://colab.research.google.com/github/gt-cse-6040/skills_oh_week_00/blob/main/week00_session02_NB02_comments_and_errors.ipynb\" target=\"_parent\"><img src=\"https://colab.research.google.com/assets/colab-badge.svg\" alt=\"Open In Colab\"/></a>"
      ]
    },
    {
      "cell_type": "code",
      "source": [
        "!wget https://github.com/gt-cse-6040/skills_oh_week_00/raw/main/pic1.png"
      ],
      "metadata": {
        "id": "peqdv_iEmX_6",
        "outputId": "04bbda2d-1f05-464c-e244-80f91d219763",
        "colab": {
          "base_uri": "https://localhost:8080/"
        }
      },
      "id": "peqdv_iEmX_6",
      "execution_count": 2,
      "outputs": [
        {
          "output_type": "stream",
          "name": "stdout",
          "text": [
            "--2023-01-07 00:20:29--  https://github.com/gt-cse-6040/skills_oh_week_00/raw/main/pic1.png\n",
            "Resolving github.com (github.com)... 140.82.114.4\n",
            "Connecting to github.com (github.com)|140.82.114.4|:443... connected.\n",
            "HTTP request sent, awaiting response... 302 Found\n",
            "Location: https://raw.githubusercontent.com/gt-cse-6040/skills_oh_week_00/main/pic1.png [following]\n",
            "--2023-01-07 00:20:29--  https://raw.githubusercontent.com/gt-cse-6040/skills_oh_week_00/main/pic1.png\n",
            "Resolving raw.githubusercontent.com (raw.githubusercontent.com)... 185.199.111.133, 185.199.108.133, 185.199.110.133, ...\n",
            "Connecting to raw.githubusercontent.com (raw.githubusercontent.com)|185.199.111.133|:443... connected.\n",
            "HTTP request sent, awaiting response... 200 OK\n",
            "Length: 321826 (314K) [image/png]\n",
            "Saving to: ‘pic1.png.1’\n",
            "\n",
            "pic1.png.1          100%[===================>] 314.28K  --.-KB/s    in 0.02s   \n",
            "\n",
            "2023-01-07 00:20:29 (12.9 MB/s) - ‘pic1.png.1’ saved [321826/321826]\n",
            "\n"
          ]
        }
      ]
    },
    {
      "cell_type": "markdown",
      "id": "6bb6f57b",
      "metadata": {
        "id": "6bb6f57b"
      },
      "source": [
        "# What is a for loop in Python?"
      ]
    },
    {
      "cell_type": "markdown",
      "id": "01839287",
      "metadata": {
        "id": "01839287"
      },
      "source": [
        "A for loop can iterate over every item in a list or go through every single character in a string and won't stop until it has gone through every character.\n",
        "\n",
        "Writing for loops helps reduce repetitiveness in your code, following the DRY (Don't Repeat Yourself) principle. You don't write the same block of code more than once."
      ]
    },
    {
      "cell_type": "markdown",
      "id": "057a3129",
      "metadata": {
        "id": "057a3129"
      },
      "source": [
        "### Loops in Javascript "
      ]
    },
    {
      "cell_type": "raw",
      "id": "864f2dbc",
      "metadata": {
        "id": "864f2dbc"
      },
      "source": [
        "for (let i = 0; i < 10; i++) {\n",
        "  console.log('Counting numbers');\n",
        "  // prints \"Counting numbers\" 10 times\n",
        "  // values of i from 0 to 9 \n",
        "  }"
      ]
    },
    {
      "cell_type": "markdown",
      "id": "779a4d13",
      "metadata": {
        "id": "779a4d13"
      },
      "source": [
        "The for loop generally keeps track of three things:\n",
        "\n",
        "1. The initialization expression statement which is exactuted once, let i = 0;\n",
        "2. The condition that needs to be met, i < 10;. This condition is evaluated as either true or false. If it is false, the loop is terminated.\n",
        "3. If the condition is true the body of the loop will be executed and the initialized expression will take some action. In this case it will be incremented by 1 (i++), until the condition set is met."
      ]
    },
    {
      "cell_type": "markdown",
      "id": "df2cde7b",
      "metadata": {
        "id": "df2cde7b"
      },
      "source": [
        "### Loops in python"
      ]
    },
    {
      "cell_type": "raw",
      "id": "a46e5647",
      "metadata": {
        "id": "a46e5647"
      },
      "source": [
        "for item in sequence:\n",
        "    execute expression"
      ]
    },
    {
      "cell_type": "markdown",
      "id": "945c9b8f",
      "metadata": {
        "id": "945c9b8f"
      },
      "source": [
        "# Naming best practices and code readability"
      ]
    },
    {
      "cell_type": "markdown",
      "id": "56e6eb88",
      "metadata": {
        "id": "56e6eb88"
      },
      "source": [
        "### Bad way to name variables"
      ]
    },
    {
      "cell_type": "code",
      "execution_count": null,
      "id": "d773e7ed",
      "metadata": {
        "id": "d773e7ed"
      },
      "outputs": [],
      "source": [
        "lst = [\"bananas\",\"butter\",\"cheese\",\"toothpaste\"]\n",
        "\n",
        "for i in lst:\n",
        "    print(i)"
      ]
    },
    {
      "cell_type": "code",
      "execution_count": null,
      "id": "53249dd2",
      "metadata": {
        "id": "53249dd2"
      },
      "outputs": [],
      "source": [
        "lst1 = ['butter','milk','eggs','cheese']\n",
        "lst2 = ['tomatoes','carrot','spinach','cabbage']\n",
        "lst3 = ['ham','chicken','tuna','turkey']"
      ]
    },
    {
      "cell_type": "markdown",
      "id": "0c3e5d42",
      "metadata": {
        "id": "0c3e5d42"
      },
      "source": [
        "### A better way"
      ]
    },
    {
      "cell_type": "code",
      "execution_count": null,
      "id": "5b052f22",
      "metadata": {
        "id": "5b052f22"
      },
      "outputs": [],
      "source": [
        "groceries = [\"bananas\",\"butter\",\"cheese\",\"toothpaste\"]\n",
        "\n",
        "for i in groceries:\n",
        "    print(i)"
      ]
    },
    {
      "cell_type": "markdown",
      "id": "29bc922e",
      "metadata": {
        "id": "29bc922e"
      },
      "source": [
        "### We can do even better"
      ]
    },
    {
      "cell_type": "code",
      "execution_count": null,
      "id": "fb44b849",
      "metadata": {
        "id": "fb44b849"
      },
      "outputs": [],
      "source": [
        "groceries = [\"bananas\",\"butter\",\"cheese\",\"toothpaste\"]\n",
        "\n",
        "for grocery in groceries:\n",
        "    print(grocery)"
      ]
    },
    {
      "cell_type": "code",
      "execution_count": null,
      "id": "e237f14f",
      "metadata": {
        "id": "e237f14f"
      },
      "outputs": [],
      "source": [
        "dairy_list = ['butter','milk','eggs','cheese']\n",
        "veg_list = ['tomatoes','carrot','spinach','cabbage']\n",
        "meat_list = ['ham','chicken','tuna','turkey']"
      ]
    },
    {
      "cell_type": "markdown",
      "id": "b73d24d5",
      "metadata": {
        "id": "b73d24d5"
      },
      "source": [
        "### camelCase vs under_scores"
      ]
    },
    {
      "cell_type": "raw",
      "id": "a19bcede",
      "metadata": {
        "id": "a19bcede"
      },
      "source": [
        "if thisLooksAppealing:\n",
        "    youLikeCamelCase = True;\n",
        "    votePoll(camelCaseFormatting)\n",
        "\n",
        "\n",
        "elif this_looks_appealing:\n",
        "    you_like_underscores = True;\n",
        "    vote_poll(underscore_formatting)"
      ]
    },
    {
      "cell_type": "markdown",
      "id": "4abb82fb",
      "metadata": {
        "id": "4abb82fb"
      },
      "source": [
        "More details here - https://whatheco.de/2011/02/10/camelcase-vs-underscores-scientific-showdown/"
      ]
    },
    {
      "cell_type": "markdown",
      "id": "583668c1",
      "metadata": {
        "id": "583668c1"
      },
      "source": [
        "### Good naming and commenting"
      ]
    },
    {
      "cell_type": "markdown",
      "id": "52904607",
      "metadata": {
        "id": "52904607"
      },
      "source": [
        "When writing code in Python, it’s important to make sure that your code can be easily understood by others. Below are the 3 ways to do this\n",
        "\n",
        "1. Giving variables obvious names\n",
        "2. Defining explicit functions \n",
        "3. Organizing your code"
      ]
    },
    {
      "cell_type": "markdown",
      "id": "ad0103cc",
      "metadata": {
        "id": "ad0103cc"
      },
      "source": [
        "### Different ways to comment in Python"
      ]
    },
    {
      "cell_type": "code",
      "execution_count": null,
      "id": "266c3985",
      "metadata": {
        "id": "266c3985"
      },
      "outputs": [],
      "source": [
        "# This is a comment aeih warjow naowr "
      ]
    },
    {
      "cell_type": "code",
      "execution_count": null,
      "id": "43f0ef2e",
      "metadata": {
        "id": "43f0ef2e"
      },
      "outputs": [],
      "source": [
        "print(\"This will run.\")  # Run this"
      ]
    },
    {
      "cell_type": "code",
      "execution_count": null,
      "id": "516f2d66",
      "metadata": {
        "id": "516f2d66"
      },
      "outputs": [],
      "source": [
        "def multiline_example():\n",
        "    # This is a pretty good example\n",
        "    # of how you can spread comments\n",
        "    # over multiple lines in Python\n",
        "    pass"
      ]
    },
    {
      "cell_type": "markdown",
      "id": "a40007d1",
      "metadata": {
        "id": "a40007d1"
      },
      "source": [
        "While the below cell gives you the multiline functionality, this isn’t technically a comment. It’s a string that’s not assigned to any variable, so it’s not called or referenced by your program. Still, since it’ll be ignored at runtime and won’t appear in the bytecode, it can effectively act as a comment."
      ]
    },
    {
      "cell_type": "code",
      "execution_count": null,
      "id": "1afe3153",
      "metadata": {
        "id": "1afe3153"
      },
      "outputs": [],
      "source": [
        "\n",
        "\n",
        "\"\"\"\n",
        "If I really hate pressing `enter` and\n",
        "typing all those hash marks, I could\n",
        "just do this instead\n",
        "\n",
        "\"\"\""
      ]
    },
    {
      "cell_type": "markdown",
      "id": "bf824e06",
      "metadata": {
        "id": "bf824e06"
      },
      "source": [
        "### Writing comments for yourself"
      ]
    },
    {
      "cell_type": "code",
      "execution_count": null,
      "id": "96fb5946",
      "metadata": {
        "id": "96fb5946"
      },
      "outputs": [],
      "source": [
        "from collections import defaultdict\n",
        "\n",
        "def get_top_cities(prices):\n",
        "    top_cities = defaultdict(int)\n",
        "\n",
        "    # For each price range\n",
        "        # Get city searches in that price\n",
        "        # Count num times city was searched\n",
        "        # Take top 3 cities & add to dict\n",
        "    \n",
        "    for price in prices:\n",
        "        #\n",
        "        #\n",
        "        #\n",
        "        pass\n",
        "\n",
        "    return dict(top_cities)"
      ]
    },
    {
      "cell_type": "markdown",
      "id": "817cfe13",
      "metadata": {
        "id": "817cfe13"
      },
      "source": [
        "### Writing comments for others"
      ]
    },
    {
      "cell_type": "code",
      "execution_count": null,
      "id": "0438c7b6",
      "metadata": {
        "id": "0438c7b6"
      },
      "outputs": [],
      "source": [
        "def sparsity_ratio(x: list) -> float:\n",
        "    \"\"\"\n",
        "    Return a float\n",
        "\n",
        "    Percentage of values in array that are zero or NaN\n",
        "    \"\"\""
      ]
    },
    {
      "cell_type": "markdown",
      "id": "6527d18e",
      "metadata": {
        "id": "6527d18e"
      },
      "source": [
        "### Bad example: variable naming and commenting  "
      ]
    },
    {
      "cell_type": "code",
      "execution_count": null,
      "id": "eaa96faf",
      "metadata": {
        "id": "eaa96faf"
      },
      "outputs": [],
      "source": [
        "# A dictionary of families who live in each city\n",
        "mydict = {\n",
        "    \"Midtown\": [\"Powell\", \"Brantley\", \"Young\"],\n",
        "    \"Norcross\": [\"Montgomery\"], \n",
        "    \"Ackworth\": []\n",
        "}\n",
        "\n",
        "def a(dict):\n",
        "    # For each city\n",
        "    for p in dict:\n",
        "        # If there are no families in the city\n",
        "        if not mydict[p]:\n",
        "            # Say that there are no families\n",
        "            print(\"None.\")"
      ]
    },
    {
      "cell_type": "markdown",
      "id": "ffe2884b",
      "metadata": {
        "id": "ffe2884b"
      },
      "source": [
        "There’s a comment before every line explaining what the code does. This script could have been made simpler by assigning obvious names to variables, functions, and collections, like so:"
      ]
    },
    {
      "cell_type": "markdown",
      "id": "40508ec0",
      "metadata": {
        "id": "40508ec0"
      },
      "source": [
        "### Good example: variable naming and commenting  "
      ]
    },
    {
      "cell_type": "code",
      "execution_count": null,
      "id": "c440bb2c",
      "metadata": {
        "id": "c440bb2c"
      },
      "outputs": [],
      "source": [
        "families_by_city = {\n",
        "    \"Midtown\": [\"Powell\", \"Brantley\", \"Young\"],\n",
        "    \"Norcross\": [\"Montgomery\"],\n",
        "    \"Ackworth\": [],\n",
        "}\n",
        "cities = [\"Midtown\",\"Norcross\",\"Ackworth\"]\n",
        "\n",
        "# This function prints cities that don't have families\n",
        "def no_families(cities):\n",
        "    \n",
        "    # Loop over cities and check if the list of family is empty\n",
        "    for city in cities:\n",
        "        if not families_by_city[city]:\n",
        "            print(f\"No families in {city}.\")"
      ]
    },
    {
      "cell_type": "markdown",
      "id": "cb4bd89e",
      "metadata": {
        "id": "cb4bd89e"
      },
      "source": [
        "By using obvious naming conventions, we were able to remove all unnecessary comments and reduce the length of the code as well!"
      ]
    },
    {
      "cell_type": "markdown",
      "id": "fb14a825",
      "metadata": {
        "id": "fb14a825"
      },
      "source": [
        "### How to practice commenting"
      ]
    },
    {
      "cell_type": "markdown",
      "id": "48fcd9e9",
      "metadata": {
        "id": "48fcd9e9"
      },
      "source": [
        "1. Start writing comments for yourself in your own code. Make it a point to include simple comments from now on where necessary. \n",
        "2. Add some clarity to complex functions, and put a docstring at the top of all your scripts.\n",
        "3. Go back and review old code that you’ve written. See where anything might not make sense, and clean up the code."
      ]
    },
    {
      "cell_type": "markdown",
      "id": "e5a250c1",
      "metadata": {
        "id": "e5a250c1"
      },
      "source": [
        "### Examples"
      ]
    },
    {
      "cell_type": "markdown",
      "id": "03bcdeb5",
      "metadata": {
        "id": "03bcdeb5"
      },
      "source": [
        "#### Bad"
      ]
    },
    {
      "cell_type": "code",
      "execution_count": null,
      "id": "b1cafe57",
      "metadata": {
        "id": "b1cafe57"
      },
      "outputs": [],
      "source": [
        "print('one'); print('two')\n",
        "x=1\n",
        "if x == 1: print('one')\n",
        "\n",
        "\n",
        "# if <complex comparison> and <other complex comparison>:\n",
        "    # do something"
      ]
    },
    {
      "cell_type": "markdown",
      "id": "089503d3",
      "metadata": {
        "id": "089503d3"
      },
      "source": [
        "#### Good"
      ]
    },
    {
      "cell_type": "code",
      "execution_count": null,
      "id": "c210ad68",
      "metadata": {
        "id": "c210ad68"
      },
      "outputs": [],
      "source": [
        "print('one')\n",
        "print('two')\n",
        "\n",
        "if x == 1:\n",
        "    print('one')\n",
        "\n",
        "# # uncomment for run through\n",
        "# cond1 = <complex comparison>\n",
        "# cond2 = <other complex comparison>\n",
        "# if cond1 and cond2:\n",
        "#     # do something"
      ]
    },
    {
      "cell_type": "markdown",
      "id": "02b1e5c7",
      "metadata": {
        "id": "02b1e5c7"
      },
      "source": [
        "#### Bad"
      ]
    },
    {
      "cell_type": "code",
      "execution_count": null,
      "id": "9e24d6ea",
      "metadata": {
        "id": "9e24d6ea"
      },
      "outputs": [],
      "source": [
        "attr=True\n",
        "if attr == True:\n",
        "    print('True!')\n",
        "\n",
        "if attr == None:\n",
        "    print('attr is None!')"
      ]
    },
    {
      "cell_type": "markdown",
      "id": "a180c48f",
      "metadata": {
        "id": "a180c48f"
      },
      "source": [
        "#### Good"
      ]
    },
    {
      "cell_type": "code",
      "execution_count": null,
      "id": "93f67fac",
      "metadata": {
        "id": "93f67fac"
      },
      "outputs": [],
      "source": [
        "# Just check the value\n",
        "if attr:\n",
        "    print('attr is truthy!')\n",
        "\n",
        "# or check for the opposite\n",
        "if not attr:\n",
        "    print('attr is falsey!')\n",
        "\n",
        "# or, since None is considered false, explicitly check for it\n",
        "if attr is None:\n",
        "    print('attr is None!')"
      ]
    },
    {
      "cell_type": "markdown",
      "id": "b86b843b",
      "metadata": {
        "id": "b86b843b"
      },
      "source": [
        "\n",
        "**I highly recommend watching this video** - A masterclass to teach you all Python best practices - https://www.youtube.com/watch?v=ubGeHQRjNog"
      ]
    },
    {
      "cell_type": "markdown",
      "id": "57877afb",
      "metadata": {
        "id": "57877afb"
      },
      "source": [
        "# Errors :\n",
        "## These are gonna make your life miserable this semester\n",
        "### But Python helps you a lot identify where the problem is.... and you can easily learn how fix them! "
      ]
    },
    {
      "cell_type": "markdown",
      "id": "ec91f024",
      "metadata": {
        "id": "ec91f024"
      },
      "source": [
        "### Understanding Traceback\n",
        "Python generates traceback when an exception occurs during the execution of the python program. There are two conditions the python program gets into problems while the program is executed. \n",
        "\n",
        "1. **Syntax Error** - If the program is not properly coded, the program gets into error at the time of compilation itself. You need to write the correct code; then, only the program will progress to the next lines.\n",
        "\n",
        "\n",
        "2. **Logical Error (Exception)** - This error happens only during the execution, and it surfaces only when an exceptional condition occurs within the program. The exceptional condition occurs due to the supply of wrong data, and the program is not designed to manage the extraneous condition."
      ]
    },
    {
      "cell_type": "markdown",
      "id": "a2a47c62",
      "metadata": {
        "id": "a2a47c62"
      },
      "source": [
        "![Screen%20Shot%202022-08-25%20at%203.45.11%20PM.png](https://github.com/gt-cse-6040/skills_oh_week_00/blob/main/pic1.png?raw=1)"
      ]
    },
    {
      "cell_type": "code",
      "execution_count": null,
      "id": "26a75b0a",
      "metadata": {
        "id": "26a75b0a"
      },
      "outputs": [],
      "source": [
        "# will throw error for improper indentation\n",
        "def Division():\n",
        "A = Num / Den\n",
        "print (\"Quotient \", A)\n",
        "\n",
        "Num = int (input (\"numerator \"))\n",
        "Den = int (input (\"denominator \"))\n",
        "\n",
        "Division()\n"
      ]
    },
    {
      "cell_type": "code",
      "execution_count": null,
      "id": "a96cac9d",
      "metadata": {
        "id": "a96cac9d"
      },
      "outputs": [],
      "source": [
        "def Division():\n",
        "    Num = int (input (\"numerator \"))\n",
        "    Den = int (input (\"denominator \"))\n",
        "    A = Num / Den\n",
        "    print (\"Quotient \", A)\n",
        "    \n",
        "Division()\n",
        "# input 0 denominator to see error message structure"
      ]
    },
    {
      "cell_type": "code",
      "execution_count": null,
      "id": "33c3a7b3",
      "metadata": {
        "id": "33c3a7b3"
      },
      "outputs": [],
      "source": [
        "# Program to decode month code of the first four months in the year \n",
        "mthdesc = [\"jan\",\"feb\",\"mar\",\"apr\"] # four month description is the table\n",
        "\n",
        "def decodemth(mm): # Function decodemth to decode\n",
        "    print (mthdesc[mm]) # calls table, decodes, prints                                  \n",
        "\n",
        "def src(): # Working function src\n",
        "    monthcode =input (\"Month code Please \") # Accepts month code\n",
        "    monthcode = int(monthcode) # Converts it into intger\n",
        "    monthcode = monthcode -1  # Adjust the offset\n",
        "    decodemth(monthcode)  # Calls the decodemth function\n",
        "\n",
        "src() # Calling working function"
      ]
    },
    {
      "cell_type": "code",
      "execution_count": null,
      "id": "7735a702",
      "metadata": {
        "id": "7735a702"
      },
      "outputs": [],
      "source": [
        "\n",
        "\n",
        "# Program to decode month code of the first four months in the year \n",
        "mthdesc = [\"jan\",\"feb\",\"mar\",\"apr\"]  # four month description is the table\n",
        "\n",
        "def decodemth(mm): # Function decodemth to decode\n",
        "    # error occurs here, because of improper placement of right bracket\n",
        "    print (mthdesc[mm]+1 )   # calls table, decodes, prints                                  \n",
        "\n",
        "def src():  # Working function src\n",
        "    monthcode =input (\"Month code Please \") # Accepts month code\n",
        "    monthcode = int(monthcode) # Converts it into intger\n",
        "    monthcode = monthcode -1 # Adjust the offset\n",
        "    decodemth(monthcode) # Calls the decodemth function\n",
        "\n",
        "src()"
      ]
    },
    {
      "cell_type": "markdown",
      "id": "cc735051",
      "metadata": {
        "id": "cc735051"
      },
      "source": [
        "More details on different types of Exceptions - \n",
        "1. https://realpython.com/python-traceback/#what-are-some-common-tracebacks-in-python\n",
        "2. https://www.geeksforgeeks.org/python-traceback/\n",
        "3. https://www.tutorialsteacher.com/python/error-types-in-python"
      ]
    },
    {
      "cell_type": "code",
      "execution_count": null,
      "id": "f6c29aac",
      "metadata": {
        "id": "f6c29aac"
      },
      "outputs": [],
      "source": []
    },
    {
      "cell_type": "code",
      "execution_count": null,
      "id": "853faa1b",
      "metadata": {
        "id": "853faa1b"
      },
      "outputs": [],
      "source": []
    },
    {
      "cell_type": "code",
      "execution_count": null,
      "id": "ad588ae9",
      "metadata": {
        "id": "ad588ae9"
      },
      "outputs": [],
      "source": []
    }
  ],
  "metadata": {
    "kernelspec": {
      "display_name": "Python 3 (ipykernel)",
      "language": "python",
      "name": "python3"
    },
    "language_info": {
      "codemirror_mode": {
        "name": "ipython",
        "version": 3
      },
      "file_extension": ".py",
      "mimetype": "text/x-python",
      "name": "python",
      "nbconvert_exporter": "python",
      "pygments_lexer": "ipython3",
      "version": "3.9.13"
    },
    "colab": {
      "provenance": [],
      "include_colab_link": true
    }
  },
  "nbformat": 4,
  "nbformat_minor": 5
}